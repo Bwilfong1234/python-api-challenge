{
 "cells": [
  {
   "cell_type": "markdown",
   "metadata": {},
   "source": [
    "# WeatherPy\n",
    "----\n",
    "\n",
    "#### Note\n",
    "* Instructions have been included for each segment. You do not have to follow them exactly, but they are included to help you think through the steps."
   ]
  },
  {
   "cell_type": "code",
   "execution_count": 44,
   "metadata": {
    "scrolled": true
   },
   "outputs": [
    {
     "name": "stdout",
     "output_type": "stream",
     "text": [
      "0498980b6bcdc43e2d0289e0d2c811db\n"
     ]
    }
   ],
   "source": [
    "# Dependencies and Setup\n",
    "import matplotlib.pyplot as plt\n",
    "import pandas as pd\n",
    "import numpy as np\n",
    "import requests\n",
    "import time\n",
    "from scipy.stats import linregress\n",
    "from pprint import pprint\n",
    "# Import API key\n",
    "from api_keys import weather_api_key\n",
    "\n",
    "# Incorporated citipy to determine city based on latitude and longitude\n",
    "from citipy import citipy\n",
    "\n",
    "# Output File (CSV)\n",
    "output_data_file = \"output_data/cities.csv\"\n",
    "\n",
    "# Range of latitudes and longitudes\n",
    "lat_range = (-90, 90)\n",
    "lng_range = (-180, 180)\n",
    "print(weather_api_key)"
   ]
  },
  {
   "cell_type": "markdown",
   "metadata": {},
   "source": [
    "## Generate Cities List"
   ]
  },
  {
   "cell_type": "code",
   "execution_count": 45,
   "metadata": {},
   "outputs": [
    {
     "data": {
      "text/plain": [
       "606"
      ]
     },
     "execution_count": 45,
     "metadata": {},
     "output_type": "execute_result"
    }
   ],
   "source": [
    "# List for holding lat_lngs and cities\n",
    "lat_lngs = []\n",
    "cities = []\n",
    "Lattitude =[]\n",
    "temp =[]\n",
    "Humidity =[]\n",
    "Cloudiness =[]\n",
    "WindSpeed=[]\n",
    "citysrr=[]\n",
    "longitude=[]\n",
    "\n",
    "# Create a set of random lat and lng combinations\n",
    "lats = np.random.uniform(low=-90.000, high=90.000, size=1500)\n",
    "lngs = np.random.uniform(low=-180.000, high=180.000, size=1500)\n",
    "lat_lngs = zip(lats, lngs)\n",
    "\n",
    "# Identify nearest city for each lat, lng combination\n",
    "for lat_lng in lat_lngs:\n",
    "    city = citipy.nearest_city(lat_lng[0], lat_lng[1]).city_name\n",
    "    \n",
    "    # If the city is unique, then add it to a our cities list\n",
    "    if city not in cities:\n",
    "        cities.append(city)\n",
    "\n",
    "# Print the city count to confirm sufficient count\n",
    "len(cities)"
   ]
  },
  {
   "cell_type": "code",
   "execution_count": 35,
   "metadata": {},
   "outputs": [],
   "source": []
  },
  {
   "cell_type": "markdown",
   "metadata": {},
   "source": [
    "### Perform API Calls\n",
    "* Perform a weather check on each city using a series of successive API calls.\n",
    "* Include a print log of each city as it'sbeing processed (with the city number and city name).\n"
   ]
  },
  {
   "cell_type": "code",
   "execution_count": 46,
   "metadata": {},
   "outputs": [],
   "source": [
    "url = \"http://api.openweathermap.org/data/2.5/weather?\"\n",
    "units = \"metric\"\n",
    "\n",
    "\n",
    "\n",
    "query_url = f\"{url}appid={weather_api_key}&units={units}&q=\"\n",
    "\n"
   ]
  },
  {
   "cell_type": "code",
   "execution_count": 47,
   "metadata": {},
   "outputs": [
    {
     "name": "stdout",
     "output_type": "stream",
     "text": [
      "x not found\n",
      "x not found\n",
      "x not found\n",
      "x not found\n",
      "x not found\n",
      "x not found\n",
      "x not found\n",
      "x not found\n",
      "x not found\n",
      "x not found\n",
      "x not found\n",
      "x not found\n",
      "x not found\n",
      "x not found\n",
      "x not found\n",
      "x not found\n",
      "x not found\n",
      "x not found\n",
      "x not found\n",
      "x not found\n",
      "x not found\n",
      "x not found\n",
      "x not found\n",
      "x not found\n",
      "x not found\n",
      "x not found\n",
      "x not found\n",
      "x not found\n",
      "x not found\n",
      "x not found\n",
      "x not found\n",
      "x not found\n",
      "x not found\n",
      "x not found\n",
      "x not found\n",
      "x not found\n",
      "x not found\n",
      "x not found\n",
      "x not found\n",
      "x not found\n",
      "x not found\n",
      "x not found\n",
      "x not found\n",
      "x not found\n",
      "x not found\n",
      "x not found\n",
      "x not found\n",
      "x not found\n",
      "x not found\n",
      "x not found\n",
      "x not found\n",
      "x not found\n",
      "x not found\n",
      "x not found\n",
      "x not found\n",
      "x not found\n",
      "x not found\n"
     ]
    }
   ],
   "source": [
    "for x in cities:\n",
    "    response = requests.get(query_url + x ).json()\n",
    "    try:\n",
    "        Lattitude.append(response['coord']['lat'])\n",
    "        temp.append(response['main']['temp'])\n",
    "        Humidity.append(response['main']['humidity'])\n",
    "        Cloudiness.append(response['clouds']['all'])\n",
    "        WindSpeed.append(response['wind']['speed'])\n",
    "        longitude.append(response['coord']['lon'])\n",
    "        citysrr.append(x)\n",
    "    except:\n",
    "        print(\"x not found\")\n",
    "        pass   \n",
    "    \n"
   ]
  },
  {
   "cell_type": "code",
   "execution_count": null,
   "metadata": {},
   "outputs": [],
   "source": []
  },
  {
   "cell_type": "code",
   "execution_count": 48,
   "metadata": {},
   "outputs": [
    {
     "data": {
      "text/html": [
       "<div>\n",
       "<style scoped>\n",
       "    .dataframe tbody tr th:only-of-type {\n",
       "        vertical-align: middle;\n",
       "    }\n",
       "\n",
       "    .dataframe tbody tr th {\n",
       "        vertical-align: top;\n",
       "    }\n",
       "\n",
       "    .dataframe thead th {\n",
       "        text-align: right;\n",
       "    }\n",
       "</style>\n",
       "<table border=\"1\" class=\"dataframe\">\n",
       "  <thead>\n",
       "    <tr style=\"text-align: right;\">\n",
       "      <th></th>\n",
       "      <th>city</th>\n",
       "      <th>Lattitude</th>\n",
       "      <th>temp</th>\n",
       "      <th>Humidity</th>\n",
       "      <th>Cloudiness</th>\n",
       "      <th>WindSpeed</th>\n",
       "      <th>longitude</th>\n",
       "    </tr>\n",
       "  </thead>\n",
       "  <tbody>\n",
       "    <tr>\n",
       "      <td>0</td>\n",
       "      <td>bubaque</td>\n",
       "      <td>11.28</td>\n",
       "      <td>25.29</td>\n",
       "      <td>73</td>\n",
       "      <td>69</td>\n",
       "      <td>4.39</td>\n",
       "      <td>-15.83</td>\n",
       "    </tr>\n",
       "    <tr>\n",
       "      <td>1</td>\n",
       "      <td>butaritari</td>\n",
       "      <td>3.07</td>\n",
       "      <td>28.86</td>\n",
       "      <td>79</td>\n",
       "      <td>97</td>\n",
       "      <td>10.28</td>\n",
       "      <td>172.79</td>\n",
       "    </tr>\n",
       "    <tr>\n",
       "      <td>2</td>\n",
       "      <td>port macquarie</td>\n",
       "      <td>-31.43</td>\n",
       "      <td>30.66</td>\n",
       "      <td>51</td>\n",
       "      <td>13</td>\n",
       "      <td>6.70</td>\n",
       "      <td>152.92</td>\n",
       "    </tr>\n",
       "    <tr>\n",
       "      <td>3</td>\n",
       "      <td>rikitea</td>\n",
       "      <td>-23.12</td>\n",
       "      <td>26.60</td>\n",
       "      <td>78</td>\n",
       "      <td>43</td>\n",
       "      <td>2.34</td>\n",
       "      <td>-134.97</td>\n",
       "    </tr>\n",
       "    <tr>\n",
       "      <td>4</td>\n",
       "      <td>surt</td>\n",
       "      <td>31.21</td>\n",
       "      <td>10.98</td>\n",
       "      <td>85</td>\n",
       "      <td>0</td>\n",
       "      <td>1.74</td>\n",
       "      <td>16.59</td>\n",
       "    </tr>\n",
       "    <tr>\n",
       "      <td>...</td>\n",
       "      <td>...</td>\n",
       "      <td>...</td>\n",
       "      <td>...</td>\n",
       "      <td>...</td>\n",
       "      <td>...</td>\n",
       "      <td>...</td>\n",
       "      <td>...</td>\n",
       "    </tr>\n",
       "    <tr>\n",
       "      <td>544</td>\n",
       "      <td>abha</td>\n",
       "      <td>18.22</td>\n",
       "      <td>12.48</td>\n",
       "      <td>81</td>\n",
       "      <td>40</td>\n",
       "      <td>3.60</td>\n",
       "      <td>42.51</td>\n",
       "    </tr>\n",
       "    <tr>\n",
       "      <td>545</td>\n",
       "      <td>haileybury</td>\n",
       "      <td>47.45</td>\n",
       "      <td>-7.00</td>\n",
       "      <td>92</td>\n",
       "      <td>90</td>\n",
       "      <td>5.70</td>\n",
       "      <td>-79.64</td>\n",
       "    </tr>\n",
       "    <tr>\n",
       "      <td>546</td>\n",
       "      <td>sabha</td>\n",
       "      <td>27.04</td>\n",
       "      <td>12.56</td>\n",
       "      <td>36</td>\n",
       "      <td>85</td>\n",
       "      <td>4.62</td>\n",
       "      <td>14.43</td>\n",
       "    </tr>\n",
       "    <tr>\n",
       "      <td>547</td>\n",
       "      <td>qasigiannguit</td>\n",
       "      <td>68.82</td>\n",
       "      <td>-14.00</td>\n",
       "      <td>60</td>\n",
       "      <td>100</td>\n",
       "      <td>4.60</td>\n",
       "      <td>-51.19</td>\n",
       "    </tr>\n",
       "    <tr>\n",
       "      <td>548</td>\n",
       "      <td>wagar</td>\n",
       "      <td>16.15</td>\n",
       "      <td>17.48</td>\n",
       "      <td>69</td>\n",
       "      <td>33</td>\n",
       "      <td>1.95</td>\n",
       "      <td>36.20</td>\n",
       "    </tr>\n",
       "  </tbody>\n",
       "</table>\n",
       "<p>549 rows × 7 columns</p>\n",
       "</div>"
      ],
      "text/plain": [
       "               city  Lattitude   temp  Humidity  Cloudiness  WindSpeed  \\\n",
       "0           bubaque      11.28  25.29        73          69       4.39   \n",
       "1        butaritari       3.07  28.86        79          97      10.28   \n",
       "2    port macquarie     -31.43  30.66        51          13       6.70   \n",
       "3           rikitea     -23.12  26.60        78          43       2.34   \n",
       "4              surt      31.21  10.98        85           0       1.74   \n",
       "..              ...        ...    ...       ...         ...        ...   \n",
       "544            abha      18.22  12.48        81          40       3.60   \n",
       "545      haileybury      47.45  -7.00        92          90       5.70   \n",
       "546           sabha      27.04  12.56        36          85       4.62   \n",
       "547   qasigiannguit      68.82 -14.00        60         100       4.60   \n",
       "548           wagar      16.15  17.48        69          33       1.95   \n",
       "\n",
       "     longitude  \n",
       "0       -15.83  \n",
       "1       172.79  \n",
       "2       152.92  \n",
       "3      -134.97  \n",
       "4        16.59  \n",
       "..         ...  \n",
       "544      42.51  \n",
       "545     -79.64  \n",
       "546      14.43  \n",
       "547     -51.19  \n",
       "548      36.20  \n",
       "\n",
       "[549 rows x 7 columns]"
      ]
     },
     "execution_count": 48,
     "metadata": {},
     "output_type": "execute_result"
    }
   ],
   "source": [
    "weather_dict = {\n",
    "    \"city\":citysrr,\n",
    "    \"Lattitude\":Lattitude,\n",
    "    \"temp\": temp,\n",
    "    \"Humidity\":Humidity,\n",
    "    \"Cloudiness\": Cloudiness,\n",
    "    \"WindSpeed\" : WindSpeed,\n",
    "    \"longitude\" : longitude,\n",
    "}\n",
    "weather_data = pd.DataFrame(weather_dict)\n",
    "weather_data"
   ]
  },
  {
   "cell_type": "code",
   "execution_count": null,
   "metadata": {},
   "outputs": [],
   "source": []
  },
  {
   "cell_type": "code",
   "execution_count": 49,
   "metadata": {},
   "outputs": [],
   "source": [
    "weather_data.to_csv('wetherpycsv.csv')"
   ]
  },
  {
   "cell_type": "markdown",
   "metadata": {},
   "source": [
    "### Convert Raw Data to DataFrame\n",
    "* Export the city data into a .csv.\n",
    "* Display the DataFrame"
   ]
  },
  {
   "cell_type": "code",
   "execution_count": 67,
   "metadata": {},
   "outputs": [
    {
     "data": {
      "image/png": "[encoded data removed]",
      "text/plain": [
       "<Figure size 432x288 with 1 Axes>"
      ]
     },
     "metadata": {
      "needs_background": "light"
     },
     "output_type": "display_data"
    }
   ],
   "source": [
    "x_values = weather_data[\"Lattitude\"]\n",
    "y_values = weather_data[\"temp\"]\n",
    "plt.scatter(x_values,y_values)\n",
    "plt.xlabel('Lattitude')\n",
    "plt.ylabel('Temp(c)')\n",
    "plt.title(\"lat_v_temp1/26/2020\")\n",
    "plt.show()"
   ]
  },
  {
   "cell_type": "code",
   "execution_count": 70,
   "metadata": {},
   "outputs": [
    {
     "data": {
      "image/png": "[encoded data removed]",
      "text/plain": [
       "<Figure size 432x288 with 1 Axes>"
      ]
     },
     "metadata": {
      "needs_background": "light"
     },
     "output_type": "display_data"
    }
   ],
   "source": [
    "x_values = weather_data[\"Lattitude\"]\n",
    "y_values = weather_data[\"Humidity\"]\n",
    "plt.scatter(x_values,y_values)\n",
    "plt.xlabel('Lattitude')\n",
    "plt.ylabel('Humidity')\n",
    "plt.title(\"lat_v_Hum1/26/2020\")\n",
    "plt.show()"
   ]
  },
  {
   "cell_type": "code",
   "execution_count": 69,
   "metadata": {},
   "outputs": [
    {
     "data": {
      "image/png": "[encoded data removed]",
      "text/plain": [
       "<Figure size 432x288 with 1 Axes>"
      ]
     },
     "metadata": {
      "needs_background": "light"
     },
     "output_type": "display_data"
    }
   ],
   "source": [
    "x_values = weather_data[\"Lattitude\"]\n",
    "y_values = weather_data[\"Cloudiness\"]\n",
    "plt.scatter(x_values,y_values)\n",
    "plt.xlabel('Lattitude')\n",
    "plt.ylabel('Cloudiness')\n",
    "plt.title(\"lat_v_cloud1/26/2020\")\n",
    "plt.show()"
   ]
  },
  {
   "cell_type": "code",
   "execution_count": 72,
   "metadata": {},
   "outputs": [
    {
     "data": {
      "image/png": "[encoded data removed]",
      "text/plain": [
       "<Figure size 432x288 with 1 Axes>"
      ]
     },
     "metadata": {
      "needs_background": "light"
     },
     "output_type": "display_data"
    }
   ],
   "source": [
    "x_values = weather_data[\"Lattitude\"]\n",
    "y_values = weather_data[\"WindSpeed\"]\n",
    "plt.scatter(x_values,y_values)\n",
    "plt.xlabel('Lattitude')\n",
    "plt.ylabel('WindSpeed')\n",
    "plt.title(\"lat_v_cloud1/26/2020\")\n",
    "plt.show()"
   ]
  },
  {
   "cell_type": "markdown",
   "metadata": {},
   "source": [
    "### Plotting the Data\n",
    "* Use proper labeling of the plots using plot titles (including date of analysis) and axes labels.\n",
    "* Save the plotted figures as .pngs."
   ]
  },
  {
   "cell_type": "markdown",
   "metadata": {},
   "source": [
    "#### Latitude vs. Temperature Plot"
   ]
  },
  {
   "cell_type": "code",
   "execution_count": null,
   "metadata": {
    "scrolled": true
   },
   "outputs": [],
   "source": []
  },
  {
   "cell_type": "markdown",
   "metadata": {},
   "source": [
    "#### Latitude vs. Humidity Plot"
   ]
  },
  {
   "cell_type": "code",
   "execution_count": null,
   "metadata": {},
   "outputs": [],
   "source": []
  },
  {
   "cell_type": "markdown",
   "metadata": {},
   "source": [
    "#### Latitude vs. Cloudiness Plot"
   ]
  },
  {
   "cell_type": "code",
   "execution_count": null,
   "metadata": {},
   "outputs": [],
   "source": []
  },
  {
   "cell_type": "markdown",
   "metadata": {},
   "source": [
    "#### Latitude vs. Wind Speed Plot"
   ]
  },
  {
   "cell_type": "code",
   "execution_count": null,
   "metadata": {},
   "outputs": [],
   "source": []
  },
  {
   "cell_type": "markdown",
   "metadata": {},
   "source": [
    "## Linear Regression"
   ]
  },
  {
   "cell_type": "code",
   "execution_count": 54,
   "metadata": {},
   "outputs": [],
   "source": [
    "# OPTIONAL: Create a function to create Linear Regression plots\n"
   ]
  },
  {
   "cell_type": "code",
   "execution_count": 55,
   "metadata": {},
   "outputs": [
    {
     "data": {
      "text/html": [
       "<div>\n",
       "<style scoped>\n",
       "    .dataframe tbody tr th:only-of-type {\n",
       "        vertical-align: middle;\n",
       "    }\n",
       "\n",
       "    .dataframe tbody tr th {\n",
       "        vertical-align: top;\n",
       "    }\n",
       "\n",
       "    .dataframe thead th {\n",
       "        text-align: right;\n",
       "    }\n",
       "</style>\n",
       "<table border=\"1\" class=\"dataframe\">\n",
       "  <thead>\n",
       "    <tr style=\"text-align: right;\">\n",
       "      <th></th>\n",
       "      <th>city</th>\n",
       "      <th>Lattitude</th>\n",
       "      <th>temp</th>\n",
       "      <th>Humidity</th>\n",
       "      <th>Cloudiness</th>\n",
       "      <th>WindSpeed</th>\n",
       "      <th>longitude</th>\n",
       "    </tr>\n",
       "  </thead>\n",
       "  <tbody>\n",
       "    <tr>\n",
       "      <td>94</td>\n",
       "      <td>kilembe</td>\n",
       "      <td>0.20</td>\n",
       "      <td>23.72</td>\n",
       "      <td>52</td>\n",
       "      <td>100</td>\n",
       "      <td>1.35</td>\n",
       "      <td>30.00</td>\n",
       "    </tr>\n",
       "    <tr>\n",
       "      <td>215</td>\n",
       "      <td>thinadhoo</td>\n",
       "      <td>0.53</td>\n",
       "      <td>27.46</td>\n",
       "      <td>75</td>\n",
       "      <td>57</td>\n",
       "      <td>5.86</td>\n",
       "      <td>72.93</td>\n",
       "    </tr>\n",
       "    <tr>\n",
       "      <td>524</td>\n",
       "      <td>gorontalo</td>\n",
       "      <td>0.54</td>\n",
       "      <td>30.12</td>\n",
       "      <td>70</td>\n",
       "      <td>58</td>\n",
       "      <td>0.51</td>\n",
       "      <td>123.06</td>\n",
       "    </tr>\n",
       "    <tr>\n",
       "      <td>278</td>\n",
       "      <td>namasuba</td>\n",
       "      <td>0.69</td>\n",
       "      <td>18.06</td>\n",
       "      <td>96</td>\n",
       "      <td>100</td>\n",
       "      <td>0.95</td>\n",
       "      <td>32.42</td>\n",
       "    </tr>\n",
       "    <tr>\n",
       "      <td>375</td>\n",
       "      <td>sungairaya</td>\n",
       "      <td>0.70</td>\n",
       "      <td>29.65</td>\n",
       "      <td>80</td>\n",
       "      <td>70</td>\n",
       "      <td>2.88</td>\n",
       "      <td>108.90</td>\n",
       "    </tr>\n",
       "    <tr>\n",
       "      <td>...</td>\n",
       "      <td>...</td>\n",
       "      <td>...</td>\n",
       "      <td>...</td>\n",
       "      <td>...</td>\n",
       "      <td>...</td>\n",
       "      <td>...</td>\n",
       "      <td>...</td>\n",
       "    </tr>\n",
       "    <tr>\n",
       "      <td>81</td>\n",
       "      <td>khatanga</td>\n",
       "      <td>71.97</td>\n",
       "      <td>-26.79</td>\n",
       "      <td>88</td>\n",
       "      <td>0</td>\n",
       "      <td>3.61</td>\n",
       "      <td>102.50</td>\n",
       "    </tr>\n",
       "    <tr>\n",
       "      <td>113</td>\n",
       "      <td>upernavik</td>\n",
       "      <td>72.79</td>\n",
       "      <td>-26.82</td>\n",
       "      <td>93</td>\n",
       "      <td>93</td>\n",
       "      <td>1.92</td>\n",
       "      <td>-56.15</td>\n",
       "    </tr>\n",
       "    <tr>\n",
       "      <td>209</td>\n",
       "      <td>dikson</td>\n",
       "      <td>73.51</td>\n",
       "      <td>-24.40</td>\n",
       "      <td>96</td>\n",
       "      <td>69</td>\n",
       "      <td>3.32</td>\n",
       "      <td>80.55</td>\n",
       "    </tr>\n",
       "    <tr>\n",
       "      <td>143</td>\n",
       "      <td>qaanaaq</td>\n",
       "      <td>77.48</td>\n",
       "      <td>-24.86</td>\n",
       "      <td>68</td>\n",
       "      <td>69</td>\n",
       "      <td>0.48</td>\n",
       "      <td>-69.36</td>\n",
       "    </tr>\n",
       "    <tr>\n",
       "      <td>66</td>\n",
       "      <td>longyearbyen</td>\n",
       "      <td>78.22</td>\n",
       "      <td>-16.00</td>\n",
       "      <td>77</td>\n",
       "      <td>93</td>\n",
       "      <td>3.60</td>\n",
       "      <td>15.64</td>\n",
       "    </tr>\n",
       "  </tbody>\n",
       "</table>\n",
       "<p>389 rows × 7 columns</p>\n",
       "</div>"
      ],
      "text/plain": [
       "             city  Lattitude   temp  Humidity  Cloudiness  WindSpeed  \\\n",
       "94        kilembe       0.20  23.72        52         100       1.35   \n",
       "215     thinadhoo       0.53  27.46        75          57       5.86   \n",
       "524     gorontalo       0.54  30.12        70          58       0.51   \n",
       "278      namasuba       0.69  18.06        96         100       0.95   \n",
       "375    sungairaya       0.70  29.65        80          70       2.88   \n",
       "..            ...        ...    ...       ...         ...        ...   \n",
       "81       khatanga      71.97 -26.79        88           0       3.61   \n",
       "113     upernavik      72.79 -26.82        93          93       1.92   \n",
       "209        dikson      73.51 -24.40        96          69       3.32   \n",
       "143       qaanaaq      77.48 -24.86        68          69       0.48   \n",
       "66   longyearbyen      78.22 -16.00        77          93       3.60   \n",
       "\n",
       "     longitude  \n",
       "94       30.00  \n",
       "215      72.93  \n",
       "524     123.06  \n",
       "278      32.42  \n",
       "375     108.90  \n",
       "..         ...  \n",
       "81      102.50  \n",
       "113     -56.15  \n",
       "209      80.55  \n",
       "143     -69.36  \n",
       "66       15.64  \n",
       "\n",
       "[389 rows x 7 columns]"
      ]
     },
     "execution_count": 55,
     "metadata": {},
     "output_type": "execute_result"
    }
   ],
   "source": [
    "# Create Northern and Southern Hemisphere DataFrames\n",
    "sortedns=weather_data.sort_values(by=[\"Lattitude\"])\n",
    "sortedns\n",
    "\n",
    "\n",
    "North= sortedns[sortedns.Lattitude >= 0 ]\n",
    "North"
   ]
  },
  {
   "cell_type": "code",
   "execution_count": 56,
   "metadata": {},
   "outputs": [
    {
     "data": {
      "text/html": [
       "<div>\n",
       "<style scoped>\n",
       "    .dataframe tbody tr th:only-of-type {\n",
       "        vertical-align: middle;\n",
       "    }\n",
       "\n",
       "    .dataframe tbody tr th {\n",
       "        vertical-align: top;\n",
       "    }\n",
       "\n",
       "    .dataframe thead th {\n",
       "        text-align: right;\n",
       "    }\n",
       "</style>\n",
       "<table border=\"1\" class=\"dataframe\">\n",
       "  <thead>\n",
       "    <tr style=\"text-align: right;\">\n",
       "      <th></th>\n",
       "      <th>city</th>\n",
       "      <th>Lattitude</th>\n",
       "      <th>temp</th>\n",
       "      <th>Humidity</th>\n",
       "      <th>Cloudiness</th>\n",
       "      <th>WindSpeed</th>\n",
       "      <th>longitude</th>\n",
       "    </tr>\n",
       "  </thead>\n",
       "  <tbody>\n",
       "    <tr>\n",
       "      <td>25</td>\n",
       "      <td>ushuaia</td>\n",
       "      <td>-54.80</td>\n",
       "      <td>7.00</td>\n",
       "      <td>93</td>\n",
       "      <td>75</td>\n",
       "      <td>1.95</td>\n",
       "      <td>-68.30</td>\n",
       "    </tr>\n",
       "    <tr>\n",
       "      <td>31</td>\n",
       "      <td>punta arenas</td>\n",
       "      <td>-53.15</td>\n",
       "      <td>6.85</td>\n",
       "      <td>81</td>\n",
       "      <td>20</td>\n",
       "      <td>3.60</td>\n",
       "      <td>-70.92</td>\n",
       "    </tr>\n",
       "    <tr>\n",
       "      <td>16</td>\n",
       "      <td>bluff</td>\n",
       "      <td>-46.60</td>\n",
       "      <td>18.89</td>\n",
       "      <td>67</td>\n",
       "      <td>98</td>\n",
       "      <td>2.68</td>\n",
       "      <td>168.33</td>\n",
       "    </tr>\n",
       "    <tr>\n",
       "      <td>96</td>\n",
       "      <td>kaitangata</td>\n",
       "      <td>-46.28</td>\n",
       "      <td>14.26</td>\n",
       "      <td>77</td>\n",
       "      <td>72</td>\n",
       "      <td>6.01</td>\n",
       "      <td>169.85</td>\n",
       "    </tr>\n",
       "    <tr>\n",
       "      <td>68</td>\n",
       "      <td>mataura</td>\n",
       "      <td>-46.19</td>\n",
       "      <td>18.89</td>\n",
       "      <td>64</td>\n",
       "      <td>83</td>\n",
       "      <td>3.58</td>\n",
       "      <td>168.86</td>\n",
       "    </tr>\n",
       "    <tr>\n",
       "      <td>...</td>\n",
       "      <td>...</td>\n",
       "      <td>...</td>\n",
       "      <td>...</td>\n",
       "      <td>...</td>\n",
       "      <td>...</td>\n",
       "      <td>...</td>\n",
       "      <td>...</td>\n",
       "    </tr>\n",
       "    <tr>\n",
       "      <td>453</td>\n",
       "      <td>biak</td>\n",
       "      <td>-0.91</td>\n",
       "      <td>29.16</td>\n",
       "      <td>76</td>\n",
       "      <td>78</td>\n",
       "      <td>3.55</td>\n",
       "      <td>122.88</td>\n",
       "    </tr>\n",
       "    <tr>\n",
       "      <td>296</td>\n",
       "      <td>sorong</td>\n",
       "      <td>-0.88</td>\n",
       "      <td>32.32</td>\n",
       "      <td>46</td>\n",
       "      <td>0</td>\n",
       "      <td>2.74</td>\n",
       "      <td>131.25</td>\n",
       "    </tr>\n",
       "    <tr>\n",
       "      <td>34</td>\n",
       "      <td>puerto ayora</td>\n",
       "      <td>-0.74</td>\n",
       "      <td>22.78</td>\n",
       "      <td>13</td>\n",
       "      <td>84</td>\n",
       "      <td>0.89</td>\n",
       "      <td>-90.35</td>\n",
       "    </tr>\n",
       "    <tr>\n",
       "      <td>445</td>\n",
       "      <td>port-gentil</td>\n",
       "      <td>-0.72</td>\n",
       "      <td>27.00</td>\n",
       "      <td>94</td>\n",
       "      <td>40</td>\n",
       "      <td>1.50</td>\n",
       "      <td>8.78</td>\n",
       "    </tr>\n",
       "    <tr>\n",
       "      <td>37</td>\n",
       "      <td>hithadhoo</td>\n",
       "      <td>-0.60</td>\n",
       "      <td>27.58</td>\n",
       "      <td>78</td>\n",
       "      <td>96</td>\n",
       "      <td>6.29</td>\n",
       "      <td>73.08</td>\n",
       "    </tr>\n",
       "  </tbody>\n",
       "</table>\n",
       "<p>160 rows × 7 columns</p>\n",
       "</div>"
      ],
      "text/plain": [
       "             city  Lattitude   temp  Humidity  Cloudiness  WindSpeed  \\\n",
       "25        ushuaia     -54.80   7.00        93          75       1.95   \n",
       "31   punta arenas     -53.15   6.85        81          20       3.60   \n",
       "16          bluff     -46.60  18.89        67          98       2.68   \n",
       "96     kaitangata     -46.28  14.26        77          72       6.01   \n",
       "68        mataura     -46.19  18.89        64          83       3.58   \n",
       "..            ...        ...    ...       ...         ...        ...   \n",
       "453          biak      -0.91  29.16        76          78       3.55   \n",
       "296        sorong      -0.88  32.32        46           0       2.74   \n",
       "34   puerto ayora      -0.74  22.78        13          84       0.89   \n",
       "445   port-gentil      -0.72  27.00        94          40       1.50   \n",
       "37      hithadhoo      -0.60  27.58        78          96       6.29   \n",
       "\n",
       "     longitude  \n",
       "25      -68.30  \n",
       "31      -70.92  \n",
       "16      168.33  \n",
       "96      169.85  \n",
       "68      168.86  \n",
       "..         ...  \n",
       "453     122.88  \n",
       "296     131.25  \n",
       "34      -90.35  \n",
       "445       8.78  \n",
       "37       73.08  \n",
       "\n",
       "[160 rows x 7 columns]"
      ]
     },
     "execution_count": 56,
     "metadata": {},
     "output_type": "execute_result"
    }
   ],
   "source": [
    "South= sortedns[sortedns.Lattitude <= 0 ]\n",
    "South"
   ]
  },
  {
   "cell_type": "markdown",
   "metadata": {},
   "source": [
    "####  Northern Hemisphere - Max Temp vs. Latitude Linear Regression"
   ]
  },
  {
   "cell_type": "code",
   "execution_count": 57,
   "metadata": {},
   "outputs": [
    {
     "name": "stdout",
     "output_type": "stream",
     "text": [
      "The r-squared is: -0.8983225125200548\n"
     ]
    },
    {
     "data": {
      "image/png": "[encoded data removed]",
      "text/plain": [
       "<Figure size 432x288 with 1 Axes>"
      ]
     },
     "metadata": {
      "needs_background": "light"
     },
     "output_type": "display_data"
    }
   ],
   "source": [
    "x_values = North['Lattitude']\n",
    "y_values = North['temp']\n",
    "(slope, intercept, rvalue, pvalue, stderr) = linregress(x_values, y_values)\n",
    "regress_values = x_values * slope + intercept\n",
    "line_eq = \"y = \" + str(round(slope,2)) + \"x + \" + str(round(intercept,2))\n",
    "plt.scatter(x_values,y_values)\n",
    "plt.plot(x_values,regress_values,\"r-\")\n",
    "plt.annotate(line_eq,(6,10),fontsize=10,color=\"red\")\n",
    "plt.xlabel('Lattitude')\n",
    "plt.ylabel('temp')\n",
    "print(f\"The r-squared is: {rvalue}\")\n",
    "plt.show()"
   ]
  },
  {
   "cell_type": "markdown",
   "metadata": {},
   "source": [
    "####  Southern Hemisphere - Max Temp vs. Latitude Linear Regression"
   ]
  },
  {
   "cell_type": "code",
   "execution_count": 58,
   "metadata": {},
   "outputs": [
    {
     "name": "stdout",
     "output_type": "stream",
     "text": [
      "The r-squared is: 0.42374323625893406\n"
     ]
    },
    {
     "data": {
      "image/png": "[encoded data removed]",
      "text/plain": [
       "<Figure size 432x288 with 1 Axes>"
      ]
     },
     "metadata": {
      "needs_background": "light"
     },
     "output_type": "display_data"
    }
   ],
   "source": [
    "x_values = South['Lattitude']\n",
    "y_values = South['temp']\n",
    "(slope, intercept, rvalue, pvalue, stderr) = linregress(x_values, y_values)\n",
    "regress_values = x_values * slope + intercept\n",
    "line_eq = \"y = \" + str(round(slope,2)) + \"x + \" + str(round(intercept,2))\n",
    "plt.scatter(x_values,y_values)\n",
    "plt.plot(x_values,regress_values,\"r-\")\n",
    "plt.annotate(line_eq,(6,10),fontsize=10,color=\"red\")\n",
    "plt.xlabel('Lattitude')\n",
    "plt.ylabel('temp')\n",
    "print(f\"The r-squared is: {rvalue}\")\n",
    "plt.show()"
   ]
  },
  {
   "cell_type": "markdown",
   "metadata": {},
   "source": [
    "####  Northern Hemisphere - Humidity (%) vs. Latitude Linear Regression"
   ]
  },
  {
   "cell_type": "code",
   "execution_count": 59,
   "metadata": {},
   "outputs": [
    {
     "name": "stdout",
     "output_type": "stream",
     "text": [
      "The r-squared is: 0.37395135411159874\n"
     ]
    },
    {
     "data": {
      "image/png": "[encoded data removed]",
      "text/plain": [
       "<Figure size 432x288 with 1 Axes>"
      ]
     },
     "metadata": {
      "needs_background": "light"
     },
     "output_type": "display_data"
    }
   ],
   "source": [
    "x_values = North['Lattitude']\n",
    "y_values = North['Humidity']\n",
    "(slope, intercept, rvalue, pvalue, stderr) = linregress(x_values, y_values)\n",
    "regress_values = x_values * slope + intercept\n",
    "line_eq = \"y = \" + str(round(slope,2)) + \"x + \" + str(round(intercept,2))\n",
    "plt.scatter(x_values,y_values)\n",
    "plt.plot(x_values,regress_values,\"r-\")\n",
    "plt.annotate(line_eq,(6,10),fontsize=10,color=\"red\")\n",
    "plt.xlabel('Lattitude')\n",
    "plt.ylabel('Humidity')\n",
    "print(f\"The r-squared is: {rvalue}\")\n",
    "plt.show()"
   ]
  },
  {
   "cell_type": "markdown",
   "metadata": {},
   "source": [
    "####  Southern Hemisphere - Humidity (%) vs. Latitude Linear Regression"
   ]
  },
  {
   "cell_type": "code",
   "execution_count": 60,
   "metadata": {},
   "outputs": [
    {
     "name": "stdout",
     "output_type": "stream",
     "text": [
      "The r-squared is: 0.21965543987977854\n"
     ]
    },
    {
     "data": {
      "image/png": "[encoded data removed]",
      "text/plain": [
       "<Figure size 432x288 with 1 Axes>"
      ]
     },
     "metadata": {
      "needs_background": "light"
     },
     "output_type": "display_data"
    }
   ],
   "source": [
    "x_values = South['Lattitude']\n",
    "y_values = South['Humidity']\n",
    "(slope, intercept, rvalue, pvalue, stderr) = linregress(x_values, y_values)\n",
    "regress_values = x_values * slope + intercept\n",
    "line_eq = \"y = \" + str(round(slope,2)) + \"x + \" + str(round(intercept,2))\n",
    "plt.scatter(x_values,y_values)\n",
    "plt.plot(x_values,regress_values,\"r-\")\n",
    "plt.annotate(line_eq,(6,10),fontsize=10,color=\"red\")\n",
    "plt.xlabel('Lattitude')\n",
    "plt.ylabel('Humidity')\n",
    "print(f\"The r-squared is: {rvalue}\")\n",
    "plt.show()"
   ]
  },
  {
   "cell_type": "markdown",
   "metadata": {},
   "source": [
    "####  Northern Hemisphere - Cloudiness (%) vs. Latitude Linear Regression"
   ]
  },
  {
   "cell_type": "code",
   "execution_count": 61,
   "metadata": {},
   "outputs": [
    {
     "name": "stdout",
     "output_type": "stream",
     "text": [
      "The r-squared is: 0.2548083191774852\n"
     ]
    },
    {
     "data": {
      "image/png": "[encoded data removed]",
      "text/plain": [
       "<Figure size 432x288 with 1 Axes>"
      ]
     },
     "metadata": {
      "needs_background": "light"
     },
     "output_type": "display_data"
    }
   ],
   "source": [
    "x_values = North['Lattitude']\n",
    "y_values = North['Cloudiness']\n",
    "(slope, intercept, rvalue, pvalue, stderr) = linregress(x_values, y_values)\n",
    "regress_values = x_values * slope + intercept\n",
    "line_eq = \"y = \" + str(round(slope,2)) + \"x + \" + str(round(intercept,2))\n",
    "plt.scatter(x_values,y_values)\n",
    "plt.plot(x_values,regress_values,\"r-\")\n",
    "plt.annotate(line_eq,(6,10),fontsize=10,color=\"red\")\n",
    "plt.xlabel('Lattitude')\n",
    "plt.ylabel('Cloudiness')\n",
    "print(f\"The r-squared is: {rvalue}\")\n",
    "plt.show()"
   ]
  },
  {
   "cell_type": "markdown",
   "metadata": {},
   "source": [
    "####  Southern Hemisphere - Cloudiness (%) vs. Latitude Linear Regression"
   ]
  },
  {
   "cell_type": "code",
   "execution_count": 62,
   "metadata": {},
   "outputs": [
    {
     "name": "stdout",
     "output_type": "stream",
     "text": [
      "The r-squared is: 0.251216900446691\n"
     ]
    },
    {
     "data": {
      "image/png": "[encoded data removed]",
      "text/plain": [
       "<Figure size 432x288 with 1 Axes>"
      ]
     },
     "metadata": {
      "needs_background": "light"
     },
     "output_type": "display_data"
    }
   ],
   "source": [
    "x_values = South['Lattitude']\n",
    "y_values = South['Cloudiness']\n",
    "(slope, intercept, rvalue, pvalue, stderr) = linregress(x_values, y_values)\n",
    "regress_values = x_values * slope + intercept\n",
    "line_eq = \"y = \" + str(round(slope,2)) + \"x + \" + str(round(intercept,2))\n",
    "plt.scatter(x_values,y_values)\n",
    "plt.plot(x_values,regress_values,\"r-\")\n",
    "plt.annotate(line_eq,(6,10),fontsize=10,color=\"red\")\n",
    "plt.xlabel('Lattitude')\n",
    "plt.ylabel('Cloudiness')\n",
    "print(f\"The r-squared is: {rvalue}\")\n",
    "plt.show()"
   ]
  },
  {
   "cell_type": "markdown",
   "metadata": {},
   "source": [
    "####  Northern Hemisphere - Wind Speed (mph) vs. Latitude Linear Regression"
   ]
  },
  {
   "cell_type": "code",
   "execution_count": 63,
   "metadata": {},
   "outputs": [
    {
     "name": "stdout",
     "output_type": "stream",
     "text": [
      "The r-squared is: 0.06504745079956403\n"
     ]
    },
    {
     "data": {
      "image/png": "[encoded data removed]",
      "text/plain": [
       "<Figure size 432x288 with 1 Axes>"
      ]
     },
     "metadata": {
      "needs_background": "light"
     },
     "output_type": "display_data"
    }
   ],
   "source": [
    "x_values = North['Lattitude']\n",
    "y_values = North['WindSpeed']\n",
    "(slope, intercept, rvalue, pvalue, stderr) = linregress(x_values, y_values)\n",
    "regress_values = x_values * slope + intercept\n",
    "line_eq = \"y = \" + str(round(slope,2)) + \"x + \" + str(round(intercept,2))\n",
    "plt.scatter(x_values,y_values)\n",
    "plt.plot(x_values,regress_values,\"r-\")\n",
    "plt.annotate(line_eq,(6,10),fontsize=10,color=\"red\")\n",
    "plt.xlabel('Lattitude')\n",
    "plt.ylabel('WindSpeed')\n",
    "print(f\"The r-squared is: {rvalue}\")\n",
    "plt.show()"
   ]
  },
  {
   "cell_type": "markdown",
   "metadata": {},
   "source": [
    "####  Southern Hemisphere - Wind Speed (mph) vs. Latitude Linear Regression"
   ]
  },
  {
   "cell_type": "code",
   "execution_count": 64,
   "metadata": {},
   "outputs": [
    {
     "name": "stdout",
     "output_type": "stream",
     "text": [
      "The r-squared is: -0.3288517139185196\n"
     ]
    },
    {
     "data": {
      "image/png": "[encoded data removed]",
      "text/plain": [
       "<Figure size 432x288 with 1 Axes>"
      ]
     },
     "metadata": {
      "needs_background": "light"
     },
     "output_type": "display_data"
    }
   ],
   "source": [
    "x_values = South['Lattitude']\n",
    "y_values = South['WindSpeed']\n",
    "(slope, intercept, rvalue, pvalue, stderr) = linregress(x_values, y_values)\n",
    "regress_values = x_values * slope + intercept\n",
    "line_eq = \"y = \" + str(round(slope,2)) + \"x + \" + str(round(intercept,2))\n",
    "plt.scatter(x_values,y_values)\n",
    "plt.plot(x_values,regress_values,\"r-\")\n",
    "plt.annotate(line_eq,(6,10),fontsize=10,color=\"red\")\n",
    "plt.xlabel('Lattitude')\n",
    "plt.ylabel('WindSpeed')\n",
    "print(f\"The r-squared is: {rvalue}\")\n",
    "plt.show()"
   ]
  },
  {
   "cell_type": "code",
   "execution_count": null,
   "metadata": {},
   "outputs": [],
   "source": [
    "#1)I notice in the as we get closer to the equater 0 lattitude it gets hotter\n",
    "#2)I notice as we get closer to the equater 0 lat the wind slows \n",
    "#3)I notice as we get closer to the equater 0 lat it gets cloudier"
   ]
  },
  {
   "cell_type": "code",
   "execution_count": null,
   "metadata": {},
   "outputs": [],
   "source": []
  }
 ],
 "metadata": {
  "anaconda-cloud": {},
  "kernel_info": {
   "name": "python3"
  },
  "kernelspec": {
   "display_name": "Python 3",
   "language": "python",
   "name": "python3"
  },
  "language_info": {
   "codemirror_mode": {
    "name": "ipython",
    "version": 3
   },
   "file_extension": ".py",
   "mimetype": "text/x-python",
   "name": "python",
   "nbconvert_exporter": "python",
   "pygments_lexer": "ipython3",
   "version": "3.7.4"
  },
  "latex_envs": {
   "LaTeX_envs_menu_present": true,
   "autoclose": false,
   "autocomplete": true,
   "bibliofile": "biblio.bib",
   "cite_by": "apalike",
   "current_citInitial": 1,
   "eqLabelWithNumbers": true,
   "eqNumInitial": 1,
   "hotkeys": {
    "equation": "Ctrl-E",
    "itemize": "Ctrl-I"
   },
   "labels_anchors": false,
   "latex_user_defs": false,
   "report_style_numbering": false,
   "user_envs_cfg": false
  },
  "nteract": {
   "version": "0.12.3"
  }
 },
 "nbformat": 4,
 "nbformat_minor": 2
}
